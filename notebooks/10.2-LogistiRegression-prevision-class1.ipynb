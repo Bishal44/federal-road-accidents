{
 "cells": [
  {
   "cell_type": "code",
   "execution_count": 1,
   "metadata": {},
   "outputs": [],
   "source": [
    "import itertools\n",
    "import matplotlib.pyplot as plt\n",
    "import numpy as np\n",
    "import pandas as pd\n",
    "\n",
    "%matplotlib inline\n",
    "\n",
    "from sklearn.externals import joblib\n",
    "from sklearn.linear_model import LogisticRegression\n",
    "from sklearn.model_selection import train_test_split, GridSearchCV\n",
    "from sklearn.metrics import accuracy_score, confusion_matrix, make_scorer\n",
    "from sklearn.utils import shuffle\n",
    "\n",
    "from tools import plot_confusion_matrix"
   ]
  },
  {
   "cell_type": "code",
   "execution_count": 2,
   "metadata": {
    "scrolled": true
   },
   "outputs": [
    {
     "name": "stderr",
     "output_type": "stream",
     "text": [
      "/Users/leportella/.virtualenvs/udacity/lib/python3.6/site-packages/IPython/core/interactiveshell.py:2785: DtypeWarning: Columns (4,18,24) have mixed types. Specify dtype option on import or set low_memory=False.\n",
      "  interactivity=interactivity, compiler=compiler, result=result)\n"
     ]
    },
    {
     "data": {
      "text/plain": [
       "(184224, 32)"
      ]
     },
     "execution_count": 2,
     "metadata": {},
     "output_type": "execute_result"
    }
   ],
   "source": [
    "df = pd.read_csv('../data/datatran_2016-2017.csv')\n",
    "df.shape"
   ]
  },
  {
   "cell_type": "code",
   "execution_count": 3,
   "metadata": {},
   "outputs": [
    {
     "data": {
      "text/html": [
       "<div>\n",
       "<table border=\"1\" class=\"dataframe\">\n",
       "  <thead>\n",
       "    <tr style=\"text-align: right;\">\n",
       "      <th></th>\n",
       "      <th>br</th>\n",
       "      <th>causa_acidente</th>\n",
       "      <th>classificacao_acidente</th>\n",
       "      <th>condicao_metereologica</th>\n",
       "      <th>delegacia</th>\n",
       "      <th>dia_semana</th>\n",
       "      <th>fase_dia</th>\n",
       "      <th>feridos</th>\n",
       "      <th>feridos_graves</th>\n",
       "      <th>feridos_leves</th>\n",
       "      <th>...</th>\n",
       "      <th>tracado_via</th>\n",
       "      <th>uf</th>\n",
       "      <th>uop</th>\n",
       "      <th>uso_solo</th>\n",
       "      <th>veiculos</th>\n",
       "      <th>hora</th>\n",
       "      <th>ano</th>\n",
       "      <th>mes</th>\n",
       "      <th>dia</th>\n",
       "      <th>target</th>\n",
       "    </tr>\n",
       "  </thead>\n",
       "  <tbody>\n",
       "    <tr>\n",
       "      <th>0</th>\n",
       "      <td>376.0</td>\n",
       "      <td>Fenômenos da Natureza                         ...</td>\n",
       "      <td>Com Vítimas Feridas</td>\n",
       "      <td>Chuva</td>\n",
       "      <td>DEL7/7</td>\n",
       "      <td>domingo</td>\n",
       "      <td>Plena Noite</td>\n",
       "      <td>1</td>\n",
       "      <td>1</td>\n",
       "      <td>0</td>\n",
       "      <td>...</td>\n",
       "      <td>Reta</td>\n",
       "      <td>PR</td>\n",
       "      <td>UOP05/PR</td>\n",
       "      <td>Não</td>\n",
       "      <td>1</td>\n",
       "      <td>0</td>\n",
       "      <td>2017</td>\n",
       "      <td>1</td>\n",
       "      <td>1</td>\n",
       "      <td>1</td>\n",
       "    </tr>\n",
       "    <tr>\n",
       "      <th>1</th>\n",
       "      <td>101.0</td>\n",
       "      <td>Falta de Atenção à Condução                   ...</td>\n",
       "      <td>Sem Vítimas</td>\n",
       "      <td>Chuva</td>\n",
       "      <td>DEL8/1</td>\n",
       "      <td>domingo</td>\n",
       "      <td>Plena Noite</td>\n",
       "      <td>0</td>\n",
       "      <td>0</td>\n",
       "      <td>0</td>\n",
       "      <td>...</td>\n",
       "      <td>Curva</td>\n",
       "      <td>SC</td>\n",
       "      <td>UOP02/SC</td>\n",
       "      <td>Não</td>\n",
       "      <td>1</td>\n",
       "      <td>0</td>\n",
       "      <td>2017</td>\n",
       "      <td>1</td>\n",
       "      <td>1</td>\n",
       "      <td>0</td>\n",
       "    </tr>\n",
       "    <tr>\n",
       "      <th>2</th>\n",
       "      <td>153.0</td>\n",
       "      <td>Animais na Pista                              ...</td>\n",
       "      <td>Com Vítimas Feridas</td>\n",
       "      <td>Garoa/Chuvisco</td>\n",
       "      <td>DEL7/7</td>\n",
       "      <td>domingo</td>\n",
       "      <td>Plena Noite</td>\n",
       "      <td>2</td>\n",
       "      <td>0</td>\n",
       "      <td>2</td>\n",
       "      <td>...</td>\n",
       "      <td>Reta</td>\n",
       "      <td>PR</td>\n",
       "      <td>UOP07/PR</td>\n",
       "      <td>Não</td>\n",
       "      <td>1</td>\n",
       "      <td>0</td>\n",
       "      <td>2017</td>\n",
       "      <td>1</td>\n",
       "      <td>1</td>\n",
       "      <td>1</td>\n",
       "    </tr>\n",
       "    <tr>\n",
       "      <th>3</th>\n",
       "      <td>153.0</td>\n",
       "      <td>Avarias e/ou desgaste excessivo no pneu       ...</td>\n",
       "      <td>Com Vítimas Feridas</td>\n",
       "      <td>Céu Claro</td>\n",
       "      <td>DEL1/2</td>\n",
       "      <td>domingo</td>\n",
       "      <td>Plena Noite</td>\n",
       "      <td>1</td>\n",
       "      <td>1</td>\n",
       "      <td>0</td>\n",
       "      <td>...</td>\n",
       "      <td>Reta</td>\n",
       "      <td>GO</td>\n",
       "      <td>UOP01/GO</td>\n",
       "      <td>Sim</td>\n",
       "      <td>1</td>\n",
       "      <td>0</td>\n",
       "      <td>2017</td>\n",
       "      <td>1</td>\n",
       "      <td>1</td>\n",
       "      <td>1</td>\n",
       "    </tr>\n",
       "    <tr>\n",
       "      <th>4</th>\n",
       "      <td>280.0</td>\n",
       "      <td>Ingestão de Álcool                            ...</td>\n",
       "      <td>Com Vítimas Feridas</td>\n",
       "      <td>Chuva</td>\n",
       "      <td>DEL8/6</td>\n",
       "      <td>domingo</td>\n",
       "      <td>Plena Noite</td>\n",
       "      <td>1</td>\n",
       "      <td>0</td>\n",
       "      <td>1</td>\n",
       "      <td>...</td>\n",
       "      <td>Não Informado</td>\n",
       "      <td>SC</td>\n",
       "      <td>UOP03/SC</td>\n",
       "      <td>Não</td>\n",
       "      <td>1</td>\n",
       "      <td>0</td>\n",
       "      <td>2017</td>\n",
       "      <td>1</td>\n",
       "      <td>1</td>\n",
       "      <td>1</td>\n",
       "    </tr>\n",
       "  </tbody>\n",
       "</table>\n",
       "<p>5 rows × 32 columns</p>\n",
       "</div>"
      ],
      "text/plain": [
       "      br                                     causa_acidente  \\\n",
       "0  376.0  Fenômenos da Natureza                         ...   \n",
       "1  101.0  Falta de Atenção à Condução                   ...   \n",
       "2  153.0  Animais na Pista                              ...   \n",
       "3  153.0  Avarias e/ou desgaste excessivo no pneu       ...   \n",
       "4  280.0  Ingestão de Álcool                            ...   \n",
       "\n",
       "  classificacao_acidente condicao_metereologica  \\\n",
       "0    Com Vítimas Feridas   Chuva                  \n",
       "1            Sem Vítimas   Chuva                  \n",
       "2    Com Vítimas Feridas   Garoa/Chuvisco         \n",
       "3    Com Vítimas Feridas   Céu Claro              \n",
       "4    Com Vítimas Feridas   Chuva                  \n",
       "\n",
       "                        delegacia dia_semana              fase_dia  feridos  \\\n",
       "0  DEL7/7                            domingo  Plena Noite                 1   \n",
       "1  DEL8/1                            domingo  Plena Noite                 0   \n",
       "2  DEL7/7                            domingo  Plena Noite                 2   \n",
       "3  DEL1/2                            domingo  Plena Noite                 1   \n",
       "4  DEL8/6                            domingo  Plena Noite                 1   \n",
       "\n",
       "   feridos_graves  feridos_leves  ...                       tracado_via  uf  \\\n",
       "0               1              0  ...    Reta                            PR   \n",
       "1               0              0  ...    Curva                           SC   \n",
       "2               0              2  ...    Reta                            PR   \n",
       "3               1              0  ...    Reta                            GO   \n",
       "4               0              1  ...    Não Informado                   SC   \n",
       "\n",
       "                              uop    uso_solo  veiculos  hora   ano  mes dia  \\\n",
       "0  UOP05/PR                        Não                1     0  2017    1   1   \n",
       "1  UOP02/SC                        Não                1     0  2017    1   1   \n",
       "2  UOP07/PR                        Não                1     0  2017    1   1   \n",
       "3  UOP01/GO                        Sim                1     0  2017    1   1   \n",
       "4  UOP03/SC                        Não                1     0  2017    1   1   \n",
       "\n",
       "  target  \n",
       "0      1  \n",
       "1      0  \n",
       "2      1  \n",
       "3      1  \n",
       "4      1  \n",
       "\n",
       "[5 rows x 32 columns]"
      ]
     },
     "execution_count": 3,
     "metadata": {},
     "output_type": "execute_result"
    }
   ],
   "source": [
    "df.head()"
   ]
  },
  {
   "cell_type": "code",
   "execution_count": 4,
   "metadata": {},
   "outputs": [
    {
     "data": {
      "text/plain": [
       "Index(['br', 'causa_acidente', 'classificacao_acidente',\n",
       "       'condicao_metereologica', 'delegacia', 'dia_semana', 'fase_dia',\n",
       "       'feridos', 'feridos_graves', 'feridos_leves', 'ignorados', 'ilesos',\n",
       "       'km', 'latitude', 'longitude', 'mortos', 'municipio', 'pessoas',\n",
       "       'regional', 'sentido_via', 'tipo_acidente', 'tipo_pista', 'tracado_via',\n",
       "       'uf', 'uop', 'uso_solo', 'veiculos', 'hora', 'ano', 'mes', 'dia',\n",
       "       'target'],\n",
       "      dtype='object')"
      ]
     },
     "execution_count": 4,
     "metadata": {},
     "output_type": "execute_result"
    }
   ],
   "source": [
    "df.columns"
   ]
  },
  {
   "cell_type": "code",
   "execution_count": 5,
   "metadata": {},
   "outputs": [
    {
     "data": {
      "text/plain": [
       "1    108520\n",
       "0     65167\n",
       "2     10537\n",
       "Name: target, dtype: int64"
      ]
     },
     "execution_count": 5,
     "metadata": {},
     "output_type": "execute_result"
    }
   ],
   "source": [
    "df.target.value_counts()"
   ]
  },
  {
   "cell_type": "code",
   "execution_count": 6,
   "metadata": {},
   "outputs": [
    {
     "data": {
      "text/plain": [
       "5268.5"
      ]
     },
     "execution_count": 6,
     "metadata": {},
     "output_type": "execute_result"
    }
   ],
   "source": [
    "10537/2"
   ]
  },
  {
   "cell_type": "code",
   "execution_count": 7,
   "metadata": {},
   "outputs": [],
   "source": [
    "class0 = df[df.target==0].sample(5268)\n",
    "class1 = df[df.target==1].sample(5268)\n",
    "class2 = df[df.target==2]\n"
   ]
  },
  {
   "cell_type": "code",
   "execution_count": 8,
   "metadata": {},
   "outputs": [
    {
     "name": "stderr",
     "output_type": "stream",
     "text": [
      "/Users/leportella/.virtualenvs/udacity/lib/python3.6/site-packages/pandas/core/generic.py:2773: SettingWithCopyWarning: \n",
      "A value is trying to be set on a copy of a slice from a DataFrame.\n",
      "Try using .loc[row_indexer,col_indexer] = value instead\n",
      "\n",
      "See the caveats in the documentation: http://pandas.pydata.org/pandas-docs/stable/indexing.html#indexing-view-versus-copy\n",
      "  self[name] = value\n"
     ]
    }
   ],
   "source": [
    "class0.target = 0\n",
    "class1.target = 0\n",
    "class2.target = 1 \n",
    "\n",
    "df2 = shuffle(pd.concat([class0, class1, class2]))"
   ]
  },
  {
   "cell_type": "code",
   "execution_count": 9,
   "metadata": {},
   "outputs": [
    {
     "data": {
      "text/plain": [
       "1    10537\n",
       "0    10536\n",
       "Name: target, dtype: int64"
      ]
     },
     "execution_count": 9,
     "metadata": {},
     "output_type": "execute_result"
    }
   ],
   "source": [
    "df2.target.value_counts()"
   ]
  },
  {
   "cell_type": "code",
   "execution_count": 10,
   "metadata": {},
   "outputs": [
    {
     "name": "stderr",
     "output_type": "stream",
     "text": [
      "/Users/leportella/.virtualenvs/udacity/lib/python3.6/site-packages/ipykernel_launcher.py:3: SettingWithCopyWarning: \n",
      "A value is trying to be set on a copy of a slice from a DataFrame\n",
      "\n",
      "See the caveats in the documentation: http://pandas.pydata.org/pandas-docs/stable/indexing.html#indexing-view-versus-copy\n",
      "  This is separate from the ipykernel package so we can avoid doing imports until\n"
     ]
    }
   ],
   "source": [
    "dd = df2[['dia_semana', 'br', 'km', 'regional', 'causa_acidente', \n",
    "        'fase_dia', 'condicao_metereologica', 'tipo_pista', 'tracado_via', 'target']]\n",
    "dd.dropna(inplace=True)"
   ]
  },
  {
   "cell_type": "code",
   "execution_count": 11,
   "metadata": {},
   "outputs": [],
   "source": [
    "X = pd.get_dummies(dd.drop(['target'], axis=1))\n",
    "y = dd['target']"
   ]
  },
  {
   "cell_type": "code",
   "execution_count": 12,
   "metadata": {},
   "outputs": [],
   "source": [
    "from sklearn.decomposition import PCA\n",
    "\n",
    "pca = PCA(n_components=200)\n",
    "X_PCA = pca.fit_transform(X)"
   ]
  },
  {
   "cell_type": "code",
   "execution_count": 13,
   "metadata": {},
   "outputs": [],
   "source": [
    "X_train, X_test, y_train, y_test = train_test_split(X_PCA, y, test_size=0.2, random_state=42)"
   ]
  },
  {
   "cell_type": "code",
   "execution_count": 14,
   "metadata": {
    "scrolled": true
   },
   "outputs": [],
   "source": [
    "model = LogisticRegression()\n",
    "\n",
    "parameters = {\n",
    "    'penalty': ['l1', 'l2'],\n",
    "    'C': [0.1, 0.5, 1., 1.5],\n",
    "    'class_weight': ['balanced', None]\n",
    "}\n",
    "\n",
    "\n",
    "scorer = make_scorer(score_func=accuracy_score)\n",
    "\n",
    "grid_obj = GridSearchCV(model, parameters, scoring=scorer)\n",
    "\n",
    "grid_fit = grid_obj.fit(X_train, y_train)\n",
    "\n",
    "best_clf = grid_fit.best_estimator_"
   ]
  },
  {
   "cell_type": "code",
   "execution_count": 15,
   "metadata": {},
   "outputs": [
    {
     "data": {
      "text/plain": [
       "LogisticRegression(C=0.5, class_weight=None, dual=False, fit_intercept=True,\n",
       "          intercept_scaling=1, max_iter=100, multi_class='ovr', n_jobs=1,\n",
       "          penalty='l1', random_state=None, solver='liblinear', tol=0.0001,\n",
       "          verbose=0, warm_start=False)"
      ]
     },
     "execution_count": 15,
     "metadata": {},
     "output_type": "execute_result"
    }
   ],
   "source": [
    "best_clf"
   ]
  },
  {
   "cell_type": "code",
   "execution_count": 16,
   "metadata": {},
   "outputs": [
    {
     "data": {
      "text/plain": [
       "['../model/model_v10-dead-victims.pkl']"
      ]
     },
     "execution_count": 16,
     "metadata": {},
     "output_type": "execute_result"
    }
   ],
   "source": [
    "joblib.dump(best_clf, '../model/model_v10-dead-victims.pkl')"
   ]
  },
  {
   "cell_type": "code",
   "execution_count": 17,
   "metadata": {},
   "outputs": [],
   "source": [
    "y_pred = best_clf.predict(X_test)"
   ]
  },
  {
   "cell_type": "code",
   "execution_count": 18,
   "metadata": {},
   "outputs": [
    {
     "name": "stdout",
     "output_type": "stream",
     "text": [
      "Confusion matrix, without normalization\n",
      "[[747 272]\n",
      " [320 719]]\n"
     ]
    },
    {
     "data": {
      "image/png": "[encoded data removed]",
      "text/plain": [
       "<matplotlib.figure.Figure at 0x108f196d8>"
      ]
     },
     "metadata": {},
     "output_type": "display_data"
    }
   ],
   "source": [
    "cnf_matrix = confusion_matrix(y_test, y_pred)\n",
    "plot_confusion_matrix(cnf_matrix, classes=['Sem Feridos', 'Feridos ou Mortos'],\n",
    "                      title='Confusion matrix, without normalization')"
   ]
  },
  {
   "cell_type": "code",
   "execution_count": 19,
   "metadata": {},
   "outputs": [
    {
     "data": {
      "text/plain": [
       "0.7123420796890184"
      ]
     },
     "execution_count": 19,
     "metadata": {},
     "output_type": "execute_result"
    }
   ],
   "source": [
    "accuracy_score(y_test, y_pred)"
   ]
  },
  {
   "cell_type": "code",
   "execution_count": 20,
   "metadata": {},
   "outputs": [
    {
     "name": "stdout",
     "output_type": "stream",
     "text": [
      "             precision    recall  f1-score   support\n",
      "\n",
      "          0       0.70      0.73      0.72      1019\n",
      "          1       0.73      0.69      0.71      1039\n",
      "\n",
      "avg / total       0.71      0.71      0.71      2058\n",
      "\n"
     ]
    }
   ],
   "source": [
    "from sklearn.metrics import classification_report\n",
    "\n",
    "print(classification_report(y_test, y_pred))"
   ]
  },
  {
   "cell_type": "code",
   "execution_count": 21,
   "metadata": {},
   "outputs": [
    {
     "data": {
      "text/plain": [
       "array([[0.26534561, 0.73465439],\n",
       "       [0.68139305, 0.31860695],\n",
       "       [0.58990653, 0.41009347],\n",
       "       ...,\n",
       "       [0.64980957, 0.35019043],\n",
       "       [0.39442032, 0.60557968],\n",
       "       [0.90894307, 0.09105693]])"
      ]
     },
     "execution_count": 21,
     "metadata": {},
     "output_type": "execute_result"
    }
   ],
   "source": [
    "y_pred_proba = best_clf.predict_proba(X_test)\n",
    "y_pred_proba"
   ]
  }
 ],
 "metadata": {
  "kernelspec": {
   "display_name": "Python 3",
   "language": "python",
   "name": "python3"
  },
  "language_info": {
   "codemirror_mode": {
    "name": "ipython",
    "version": 3
   },
   "file_extension": ".py",
   "mimetype": "text/x-python",
   "name": "python",
   "nbconvert_exporter": "python",
   "pygments_lexer": "ipython3",
   "version": "3.6.1"
  }
 },
 "nbformat": 4,
 "nbformat_minor": 2
}
