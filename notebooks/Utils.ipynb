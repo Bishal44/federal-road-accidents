{
 "cells": [
  {
   "cell_type": "code",
   "execution_count": 1,
   "metadata": {},
   "outputs": [],
   "source": [
    "import itertools\n",
    "import matplotlib.pyplot as plt\n",
    "import numpy as np\n",
    "import pandas as pd\n",
    "\n",
    "%matplotlib inline\n",
    "\n",
    "from sklearn.externals import joblib\n",
    "from sklearn.linear_model import LogisticRegression\n",
    "from sklearn.model_selection import train_test_split, GridSearchCV\n",
    "from sklearn.metrics import accuracy_score, confusion_matrix, make_scorer\n",
    "from sklearn.utils import shuffle\n",
    "\n",
    "from tools import plot_confusion_matrix"
   ]
  },
  {
   "cell_type": "code",
   "execution_count": 2,
   "metadata": {},
   "outputs": [
    {
     "data": {
      "text/plain": [
       "(89518, 30)"
      ]
     },
     "execution_count": 2,
     "metadata": {},
     "output_type": "execute_result"
    }
   ],
   "source": [
    "df = pd.read_csv('../data/datatran2017.csv', sep=';', encoding=\"latin1\")\n",
    "df.shape"
   ]
  },
  {
   "cell_type": "code",
   "execution_count": 5,
   "metadata": {},
   "outputs": [
    {
     "data": {
      "text/plain": [
       "Com Vítimas Feridas    53647\n",
       "Sem Vítimas            30689\n",
       "Com Vítimas Fatais      5182\n",
       "Name: classificacao_acidente, dtype: int64"
      ]
     },
     "execution_count": 5,
     "metadata": {},
     "output_type": "execute_result"
    }
   ],
   "source": [
    "df.classificacao_acidente.value_counts()"
   ]
  },
  {
   "cell_type": "code",
   "execution_count": 3,
   "metadata": {},
   "outputs": [
    {
     "data": {
      "text/plain": [
       "(96363, 25)"
      ]
     },
     "execution_count": 3,
     "metadata": {},
     "output_type": "execute_result"
    }
   ],
   "source": [
    "df1 = pd.read_csv('../data/datatran2016_atual.csv', sep=';', encoding=\"latin1\")\n",
    "df1.shape"
   ]
  },
  {
   "cell_type": "code",
   "execution_count": 13,
   "metadata": {},
   "outputs": [],
   "source": [
    "def fix_date(date):\n",
    "    l = date.split('/')\n",
    "    return '20{}-{}-{}'.format(l[2], l[1], l[0])\n",
    "    \n",
    "\n",
    "data = df1.data_inversa.apply(lambda x: fix_date(x))\n",
    "df1.data_inversa = data"
   ]
  },
  {
   "cell_type": "code",
   "execution_count": 14,
   "metadata": {},
   "outputs": [
    {
     "data": {
      "text/plain": [
       "Com Vítimas Feridas    54873\n",
       "Sem Vítimas            34478\n",
       "Com Vítimas Fatais      5355\n",
       "Ignorado                1656\n",
       "Name: classificacao_acidente, dtype: int64"
      ]
     },
     "execution_count": 14,
     "metadata": {},
     "output_type": "execute_result"
    }
   ],
   "source": [
    "df1.classificacao_acidente.value_counts()"
   ]
  },
  {
   "cell_type": "code",
   "execution_count": 15,
   "metadata": {},
   "outputs": [],
   "source": [
    "df_completo = pd.concat([df, df1])"
   ]
  },
  {
   "cell_type": "code",
   "execution_count": 17,
   "metadata": {},
   "outputs": [
    {
     "data": {
      "text/html": [
       "<div>\n",
       "<table border=\"1\" class=\"dataframe\">\n",
       "  <thead>\n",
       "    <tr style=\"text-align: right;\">\n",
       "      <th></th>\n",
       "      <th>br</th>\n",
       "      <th>causa_acidente</th>\n",
       "      <th>classificacao_acidente</th>\n",
       "      <th>condicao_metereologica</th>\n",
       "      <th>data_inversa</th>\n",
       "      <th>delegacia</th>\n",
       "      <th>dia_semana</th>\n",
       "      <th>fase_dia</th>\n",
       "      <th>feridos</th>\n",
       "      <th>feridos_graves</th>\n",
       "      <th>...</th>\n",
       "      <th>pessoas</th>\n",
       "      <th>regional</th>\n",
       "      <th>sentido_via</th>\n",
       "      <th>tipo_acidente</th>\n",
       "      <th>tipo_pista</th>\n",
       "      <th>tracado_via</th>\n",
       "      <th>uf</th>\n",
       "      <th>uop</th>\n",
       "      <th>uso_solo</th>\n",
       "      <th>veiculos</th>\n",
       "    </tr>\n",
       "  </thead>\n",
       "  <tbody>\n",
       "    <tr>\n",
       "      <th>96358</th>\n",
       "      <td>163.0</td>\n",
       "      <td>Falta de atenção</td>\n",
       "      <td>Com Vítimas Fatais</td>\n",
       "      <td>Ceu Claro</td>\n",
       "      <td>2016-11-10</td>\n",
       "      <td>NaN</td>\n",
       "      <td>Quinta</td>\n",
       "      <td>Pleno dia</td>\n",
       "      <td>1</td>\n",
       "      <td>0</td>\n",
       "      <td>...</td>\n",
       "      <td>2</td>\n",
       "      <td>NaN</td>\n",
       "      <td>Crescente</td>\n",
       "      <td>Saída de Pista</td>\n",
       "      <td>Simples</td>\n",
       "      <td>Reta</td>\n",
       "      <td>MT</td>\n",
       "      <td>NaN</td>\n",
       "      <td>Urbano</td>\n",
       "      <td>1</td>\n",
       "    </tr>\n",
       "    <tr>\n",
       "      <th>96359</th>\n",
       "      <td>428.0</td>\n",
       "      <td>Ingestão de álcool</td>\n",
       "      <td>Com Vítimas Feridas</td>\n",
       "      <td>Ceu Claro</td>\n",
       "      <td>2016-01-01</td>\n",
       "      <td>NaN</td>\n",
       "      <td>Sexta</td>\n",
       "      <td>Plena noite</td>\n",
       "      <td>1</td>\n",
       "      <td>1</td>\n",
       "      <td>...</td>\n",
       "      <td>3</td>\n",
       "      <td>NaN</td>\n",
       "      <td>Decrescente</td>\n",
       "      <td>Colisão traseira</td>\n",
       "      <td>Simples</td>\n",
       "      <td>Reta</td>\n",
       "      <td>PE</td>\n",
       "      <td>NaN</td>\n",
       "      <td>Urbano</td>\n",
       "      <td>2</td>\n",
       "    </tr>\n",
       "    <tr>\n",
       "      <th>96360</th>\n",
       "      <td>267.0</td>\n",
       "      <td>Velocidade incompatível</td>\n",
       "      <td>Com Vítimas Feridas</td>\n",
       "      <td>Chuva</td>\n",
       "      <td>2016-12-10</td>\n",
       "      <td>NaN</td>\n",
       "      <td>Sábado</td>\n",
       "      <td>Pleno dia</td>\n",
       "      <td>1</td>\n",
       "      <td>0</td>\n",
       "      <td>...</td>\n",
       "      <td>1</td>\n",
       "      <td>NaN</td>\n",
       "      <td>Decrescente</td>\n",
       "      <td>Saída de Pista</td>\n",
       "      <td>Simples</td>\n",
       "      <td>Curva</td>\n",
       "      <td>MG</td>\n",
       "      <td>NaN</td>\n",
       "      <td>Rural</td>\n",
       "      <td>1</td>\n",
       "    </tr>\n",
       "    <tr>\n",
       "      <th>96361</th>\n",
       "      <td>393.0</td>\n",
       "      <td>Defeito mecânico em veículo</td>\n",
       "      <td>Sem Vítimas</td>\n",
       "      <td>Ceu Claro</td>\n",
       "      <td>2016-12-28</td>\n",
       "      <td>NaN</td>\n",
       "      <td>Quarta</td>\n",
       "      <td>Pleno dia</td>\n",
       "      <td>0</td>\n",
       "      <td>0</td>\n",
       "      <td>...</td>\n",
       "      <td>3</td>\n",
       "      <td>NaN</td>\n",
       "      <td>Crescente</td>\n",
       "      <td>Colisão lateral</td>\n",
       "      <td>Simples</td>\n",
       "      <td>Reta</td>\n",
       "      <td>RJ</td>\n",
       "      <td>NaN</td>\n",
       "      <td>Urbano</td>\n",
       "      <td>2</td>\n",
       "    </tr>\n",
       "    <tr>\n",
       "      <th>96362</th>\n",
       "      <td>40.0</td>\n",
       "      <td>Outras</td>\n",
       "      <td>Com Vítimas Feridas</td>\n",
       "      <td>Chuva</td>\n",
       "      <td>2016-12-04</td>\n",
       "      <td>NaN</td>\n",
       "      <td>Domingo</td>\n",
       "      <td>Anoitecer</td>\n",
       "      <td>5</td>\n",
       "      <td>2</td>\n",
       "      <td>...</td>\n",
       "      <td>13</td>\n",
       "      <td>NaN</td>\n",
       "      <td>Crescente</td>\n",
       "      <td>Capotamento</td>\n",
       "      <td>Dupla</td>\n",
       "      <td>Curva</td>\n",
       "      <td>RJ</td>\n",
       "      <td>NaN</td>\n",
       "      <td>Rural</td>\n",
       "      <td>1</td>\n",
       "    </tr>\n",
       "  </tbody>\n",
       "</table>\n",
       "<p>5 rows × 30 columns</p>\n",
       "</div>"
      ],
      "text/plain": [
       "          br               causa_acidente classificacao_acidente  \\\n",
       "96358  163.0             Falta de atenção     Com Vítimas Fatais   \n",
       "96359  428.0           Ingestão de álcool    Com Vítimas Feridas   \n",
       "96360  267.0      Velocidade incompatível    Com Vítimas Feridas   \n",
       "96361  393.0  Defeito mecânico em veículo            Sem Vítimas   \n",
       "96362   40.0                       Outras    Com Vítimas Feridas   \n",
       "\n",
       "      condicao_metereologica data_inversa delegacia dia_semana     fase_dia  \\\n",
       "96358              Ceu Claro   2016-11-10       NaN     Quinta    Pleno dia   \n",
       "96359              Ceu Claro   2016-01-01       NaN      Sexta  Plena noite   \n",
       "96360                  Chuva   2016-12-10       NaN     Sábado    Pleno dia   \n",
       "96361              Ceu Claro   2016-12-28       NaN     Quarta    Pleno dia   \n",
       "96362                  Chuva   2016-12-04       NaN    Domingo    Anoitecer   \n",
       "\n",
       "       feridos  feridos_graves   ...     pessoas regional  sentido_via  \\\n",
       "96358        1               0   ...           2      NaN    Crescente   \n",
       "96359        1               1   ...           3      NaN  Decrescente   \n",
       "96360        1               0   ...           1      NaN  Decrescente   \n",
       "96361        0               0   ...           3      NaN    Crescente   \n",
       "96362        5               2   ...          13      NaN    Crescente   \n",
       "\n",
       "          tipo_acidente  tipo_pista tracado_via  uf  uop  uso_solo veiculos  \n",
       "96358    Saída de Pista     Simples        Reta  MT  NaN    Urbano        1  \n",
       "96359  Colisão traseira     Simples        Reta  PE  NaN    Urbano        2  \n",
       "96360    Saída de Pista     Simples       Curva  MG  NaN     Rural        1  \n",
       "96361   Colisão lateral     Simples        Reta  RJ  NaN    Urbano        2  \n",
       "96362       Capotamento       Dupla       Curva  RJ  NaN     Rural        1  \n",
       "\n",
       "[5 rows x 30 columns]"
      ]
     },
     "execution_count": 17,
     "metadata": {},
     "output_type": "execute_result"
    }
   ],
   "source": [
    "df_completo.tail()"
   ]
  },
  {
   "cell_type": "code",
   "execution_count": 19,
   "metadata": {},
   "outputs": [
    {
     "data": {
      "text/plain": [
       "Com Vítimas Feridas    108520\n",
       "Sem Vítimas             65167\n",
       "Com Vítimas Fatais      10537\n",
       "Ignorado                 1656\n",
       "Name: classificacao_acidente, dtype: int64"
      ]
     },
     "execution_count": 19,
     "metadata": {},
     "output_type": "execute_result"
    }
   ],
   "source": [
    "df_completo.classificacao_acidente.value_counts()"
   ]
  },
  {
   "cell_type": "code",
   "execution_count": 21,
   "metadata": {},
   "outputs": [
    {
     "data": {
      "text/plain": [
       "(184225, 30)"
      ]
     },
     "execution_count": 21,
     "metadata": {},
     "output_type": "execute_result"
    }
   ],
   "source": [
    "df = df_completo[df_completo.classificacao_acidente!='Ignorado']\n",
    "df.shape"
   ]
  },
  {
   "cell_type": "code",
   "execution_count": 22,
   "metadata": {
    "scrolled": true
   },
   "outputs": [
    {
     "name": "stderr",
     "output_type": "stream",
     "text": [
      "/Users/leportella/.virtualenvs/udacity/lib/python3.6/site-packages/ipykernel_launcher.py:1: SettingWithCopyWarning: \n",
      "A value is trying to be set on a copy of a slice from a DataFrame.\n",
      "Try using .loc[row_indexer,col_indexer] = value instead\n",
      "\n",
      "See the caveats in the documentation: http://pandas.pydata.org/pandas-docs/stable/indexing.html#indexing-view-versus-copy\n",
      "  \"\"\"Entry point for launching an IPython kernel.\n",
      "/Users/leportella/.virtualenvs/udacity/lib/python3.6/site-packages/ipykernel_launcher.py:2: SettingWithCopyWarning: \n",
      "A value is trying to be set on a copy of a slice from a DataFrame.\n",
      "Try using .loc[row_indexer,col_indexer] = value instead\n",
      "\n",
      "See the caveats in the documentation: http://pandas.pydata.org/pandas-docs/stable/indexing.html#indexing-view-versus-copy\n",
      "  \n",
      "/Users/leportella/.virtualenvs/udacity/lib/python3.6/site-packages/ipykernel_launcher.py:3: SettingWithCopyWarning: \n",
      "A value is trying to be set on a copy of a slice from a DataFrame.\n",
      "Try using .loc[row_indexer,col_indexer] = value instead\n",
      "\n",
      "See the caveats in the documentation: http://pandas.pydata.org/pandas-docs/stable/indexing.html#indexing-view-versus-copy\n",
      "  This is separate from the ipykernel package so we can avoid doing imports until\n",
      "/Users/leportella/.virtualenvs/udacity/lib/python3.6/site-packages/ipykernel_launcher.py:4: SettingWithCopyWarning: \n",
      "A value is trying to be set on a copy of a slice from a DataFrame.\n",
      "Try using .loc[row_indexer,col_indexer] = value instead\n",
      "\n",
      "See the caveats in the documentation: http://pandas.pydata.org/pandas-docs/stable/indexing.html#indexing-view-versus-copy\n",
      "  after removing the cwd from sys.path.\n",
      "/Users/leportella/.virtualenvs/udacity/lib/python3.6/site-packages/ipykernel_launcher.py:6: SettingWithCopyWarning: \n",
      "A value is trying to be set on a copy of a slice from a DataFrame\n",
      "\n",
      "See the caveats in the documentation: http://pandas.pydata.org/pandas-docs/stable/indexing.html#indexing-view-versus-copy\n",
      "  \n"
     ]
    }
   ],
   "source": [
    "df['hora'] = df.horario.apply(lambda x: x.split(':')[0])\n",
    "df['ano'] = df.data_inversa.apply(lambda x: x.split('-')[0])\n",
    "df['mes'] = df.data_inversa.apply(lambda x: x.split('-')[1])\n",
    "df['dia'] = df.data_inversa.apply(lambda x: x.split('-')[2])\n",
    "\n",
    "df.drop(['horario', 'data_inversa', 'id'], axis=1, inplace=True)"
   ]
  },
  {
   "cell_type": "code",
   "execution_count": 23,
   "metadata": {},
   "outputs": [],
   "source": [
    "value = {\n",
    "    'Com Vítimas Feridas': 1,\n",
    "    'Sem Vítimas': 0,\n",
    "    'Com Vítimas Fatais': 2\n",
    "}"
   ]
  },
  {
   "cell_type": "code",
   "execution_count": 25,
   "metadata": {},
   "outputs": [
    {
     "data": {
      "text/plain": [
       "(184224, 31)"
      ]
     },
     "execution_count": 25,
     "metadata": {},
     "output_type": "execute_result"
    }
   ],
   "source": [
    "df = df[~df.classificacao_acidente.isnull()]\n",
    "df.shape"
   ]
  },
  {
   "cell_type": "code",
   "execution_count": 29,
   "metadata": {},
   "outputs": [
    {
     "data": {
      "text/plain": [
       "(184224, 32)"
      ]
     },
     "execution_count": 29,
     "metadata": {},
     "output_type": "execute_result"
    }
   ],
   "source": [
    "df['target'] = df.classificacao_acidente.apply(lambda x: value[x])\n",
    "df.shape"
   ]
  },
  {
   "cell_type": "code",
   "execution_count": 30,
   "metadata": {},
   "outputs": [],
   "source": [
    "df.to_csv('../data/datatran_2016-2017.csv', index=False)"
   ]
  }
 ],
 "metadata": {
  "kernelspec": {
   "display_name": "Python 3",
   "language": "python",
   "name": "python3"
  },
  "language_info": {
   "codemirror_mode": {
    "name": "ipython",
    "version": 3
   },
   "file_extension": ".py",
   "mimetype": "text/x-python",
   "name": "python",
   "nbconvert_exporter": "python",
   "pygments_lexer": "ipython3",
   "version": "3.6.1"
  }
 },
 "nbformat": 4,
 "nbformat_minor": 2
}
