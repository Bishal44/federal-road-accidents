{
 "cells": [
  {
   "cell_type": "code",
   "execution_count": 1,
   "metadata": {},
   "outputs": [],
   "source": [
    "import itertools\n",
    "import matplotlib.pyplot as plt\n",
    "import numpy as np\n",
    "import pandas as pd\n",
    "\n",
    "%matplotlib inline\n",
    "\n",
    "from sklearn.externals import joblib\n",
    "from sklearn.linear_model import LogisticRegression\n",
    "from sklearn.model_selection import train_test_split, GridSearchCV\n",
    "from sklearn.metrics import accuracy_score, confusion_matrix, make_scorer\n",
    "from sklearn.utils import shuffle\n",
    "\n",
    "from tools import plot_confusion_matrix"
   ]
  },
  {
   "cell_type": "code",
   "execution_count": 2,
   "metadata": {
    "scrolled": true
   },
   "outputs": [
    {
     "name": "stderr",
     "output_type": "stream",
     "text": [
      "/Users/leportella/.virtualenvs/udacity/lib/python3.6/site-packages/IPython/core/interactiveshell.py:2785: DtypeWarning: Columns (4,18,24) have mixed types. Specify dtype option on import or set low_memory=False.\n",
      "  interactivity=interactivity, compiler=compiler, result=result)\n"
     ]
    },
    {
     "data": {
      "text/plain": [
       "(184224, 32)"
      ]
     },
     "execution_count": 2,
     "metadata": {},
     "output_type": "execute_result"
    }
   ],
   "source": [
    "df = pd.read_csv('../data/datatran_2016-2017.csv')\n",
    "df.shape"
   ]
  },
  {
   "cell_type": "code",
   "execution_count": 3,
   "metadata": {},
   "outputs": [
    {
     "data": {
      "text/html": [
       "<div>\n",
       "<table border=\"1\" class=\"dataframe\">\n",
       "  <thead>\n",
       "    <tr style=\"text-align: right;\">\n",
       "      <th></th>\n",
       "      <th>br</th>\n",
       "      <th>causa_acidente</th>\n",
       "      <th>classificacao_acidente</th>\n",
       "      <th>condicao_metereologica</th>\n",
       "      <th>delegacia</th>\n",
       "      <th>dia_semana</th>\n",
       "      <th>fase_dia</th>\n",
       "      <th>feridos</th>\n",
       "      <th>feridos_graves</th>\n",
       "      <th>feridos_leves</th>\n",
       "      <th>...</th>\n",
       "      <th>tracado_via</th>\n",
       "      <th>uf</th>\n",
       "      <th>uop</th>\n",
       "      <th>uso_solo</th>\n",
       "      <th>veiculos</th>\n",
       "      <th>hora</th>\n",
       "      <th>ano</th>\n",
       "      <th>mes</th>\n",
       "      <th>dia</th>\n",
       "      <th>target</th>\n",
       "    </tr>\n",
       "  </thead>\n",
       "  <tbody>\n",
       "    <tr>\n",
       "      <th>0</th>\n",
       "      <td>376.0</td>\n",
       "      <td>Fenômenos da Natureza                         ...</td>\n",
       "      <td>Com Vítimas Feridas</td>\n",
       "      <td>Chuva</td>\n",
       "      <td>DEL7/7</td>\n",
       "      <td>domingo</td>\n",
       "      <td>Plena Noite</td>\n",
       "      <td>1</td>\n",
       "      <td>1</td>\n",
       "      <td>0</td>\n",
       "      <td>...</td>\n",
       "      <td>Reta</td>\n",
       "      <td>PR</td>\n",
       "      <td>UOP05/PR</td>\n",
       "      <td>Não</td>\n",
       "      <td>1</td>\n",
       "      <td>0</td>\n",
       "      <td>2017</td>\n",
       "      <td>1</td>\n",
       "      <td>1</td>\n",
       "      <td>1</td>\n",
       "    </tr>\n",
       "    <tr>\n",
       "      <th>1</th>\n",
       "      <td>101.0</td>\n",
       "      <td>Falta de Atenção à Condução                   ...</td>\n",
       "      <td>Sem Vítimas</td>\n",
       "      <td>Chuva</td>\n",
       "      <td>DEL8/1</td>\n",
       "      <td>domingo</td>\n",
       "      <td>Plena Noite</td>\n",
       "      <td>0</td>\n",
       "      <td>0</td>\n",
       "      <td>0</td>\n",
       "      <td>...</td>\n",
       "      <td>Curva</td>\n",
       "      <td>SC</td>\n",
       "      <td>UOP02/SC</td>\n",
       "      <td>Não</td>\n",
       "      <td>1</td>\n",
       "      <td>0</td>\n",
       "      <td>2017</td>\n",
       "      <td>1</td>\n",
       "      <td>1</td>\n",
       "      <td>0</td>\n",
       "    </tr>\n",
       "    <tr>\n",
       "      <th>2</th>\n",
       "      <td>153.0</td>\n",
       "      <td>Animais na Pista                              ...</td>\n",
       "      <td>Com Vítimas Feridas</td>\n",
       "      <td>Garoa/Chuvisco</td>\n",
       "      <td>DEL7/7</td>\n",
       "      <td>domingo</td>\n",
       "      <td>Plena Noite</td>\n",
       "      <td>2</td>\n",
       "      <td>0</td>\n",
       "      <td>2</td>\n",
       "      <td>...</td>\n",
       "      <td>Reta</td>\n",
       "      <td>PR</td>\n",
       "      <td>UOP07/PR</td>\n",
       "      <td>Não</td>\n",
       "      <td>1</td>\n",
       "      <td>0</td>\n",
       "      <td>2017</td>\n",
       "      <td>1</td>\n",
       "      <td>1</td>\n",
       "      <td>1</td>\n",
       "    </tr>\n",
       "    <tr>\n",
       "      <th>3</th>\n",
       "      <td>153.0</td>\n",
       "      <td>Avarias e/ou desgaste excessivo no pneu       ...</td>\n",
       "      <td>Com Vítimas Feridas</td>\n",
       "      <td>Céu Claro</td>\n",
       "      <td>DEL1/2</td>\n",
       "      <td>domingo</td>\n",
       "      <td>Plena Noite</td>\n",
       "      <td>1</td>\n",
       "      <td>1</td>\n",
       "      <td>0</td>\n",
       "      <td>...</td>\n",
       "      <td>Reta</td>\n",
       "      <td>GO</td>\n",
       "      <td>UOP01/GO</td>\n",
       "      <td>Sim</td>\n",
       "      <td>1</td>\n",
       "      <td>0</td>\n",
       "      <td>2017</td>\n",
       "      <td>1</td>\n",
       "      <td>1</td>\n",
       "      <td>1</td>\n",
       "    </tr>\n",
       "    <tr>\n",
       "      <th>4</th>\n",
       "      <td>280.0</td>\n",
       "      <td>Ingestão de Álcool                            ...</td>\n",
       "      <td>Com Vítimas Feridas</td>\n",
       "      <td>Chuva</td>\n",
       "      <td>DEL8/6</td>\n",
       "      <td>domingo</td>\n",
       "      <td>Plena Noite</td>\n",
       "      <td>1</td>\n",
       "      <td>0</td>\n",
       "      <td>1</td>\n",
       "      <td>...</td>\n",
       "      <td>Não Informado</td>\n",
       "      <td>SC</td>\n",
       "      <td>UOP03/SC</td>\n",
       "      <td>Não</td>\n",
       "      <td>1</td>\n",
       "      <td>0</td>\n",
       "      <td>2017</td>\n",
       "      <td>1</td>\n",
       "      <td>1</td>\n",
       "      <td>1</td>\n",
       "    </tr>\n",
       "  </tbody>\n",
       "</table>\n",
       "<p>5 rows × 32 columns</p>\n",
       "</div>"
      ],
      "text/plain": [
       "      br                                     causa_acidente  \\\n",
       "0  376.0  Fenômenos da Natureza                         ...   \n",
       "1  101.0  Falta de Atenção à Condução                   ...   \n",
       "2  153.0  Animais na Pista                              ...   \n",
       "3  153.0  Avarias e/ou desgaste excessivo no pneu       ...   \n",
       "4  280.0  Ingestão de Álcool                            ...   \n",
       "\n",
       "  classificacao_acidente condicao_metereologica  \\\n",
       "0    Com Vítimas Feridas   Chuva                  \n",
       "1            Sem Vítimas   Chuva                  \n",
       "2    Com Vítimas Feridas   Garoa/Chuvisco         \n",
       "3    Com Vítimas Feridas   Céu Claro              \n",
       "4    Com Vítimas Feridas   Chuva                  \n",
       "\n",
       "                        delegacia dia_semana              fase_dia  feridos  \\\n",
       "0  DEL7/7                            domingo  Plena Noite                 1   \n",
       "1  DEL8/1                            domingo  Plena Noite                 0   \n",
       "2  DEL7/7                            domingo  Plena Noite                 2   \n",
       "3  DEL1/2                            domingo  Plena Noite                 1   \n",
       "4  DEL8/6                            domingo  Plena Noite                 1   \n",
       "\n",
       "   feridos_graves  feridos_leves  ...                       tracado_via  uf  \\\n",
       "0               1              0  ...    Reta                            PR   \n",
       "1               0              0  ...    Curva                           SC   \n",
       "2               0              2  ...    Reta                            PR   \n",
       "3               1              0  ...    Reta                            GO   \n",
       "4               0              1  ...    Não Informado                   SC   \n",
       "\n",
       "                              uop    uso_solo  veiculos  hora   ano  mes dia  \\\n",
       "0  UOP05/PR                        Não                1     0  2017    1   1   \n",
       "1  UOP02/SC                        Não                1     0  2017    1   1   \n",
       "2  UOP07/PR                        Não                1     0  2017    1   1   \n",
       "3  UOP01/GO                        Sim                1     0  2017    1   1   \n",
       "4  UOP03/SC                        Não                1     0  2017    1   1   \n",
       "\n",
       "  target  \n",
       "0      1  \n",
       "1      0  \n",
       "2      1  \n",
       "3      1  \n",
       "4      1  \n",
       "\n",
       "[5 rows x 32 columns]"
      ]
     },
     "execution_count": 3,
     "metadata": {},
     "output_type": "execute_result"
    }
   ],
   "source": [
    "df.head()"
   ]
  },
  {
   "cell_type": "code",
   "execution_count": 4,
   "metadata": {},
   "outputs": [
    {
     "data": {
      "text/plain": [
       "1    108520\n",
       "0     65167\n",
       "2     10537\n",
       "Name: target, dtype: int64"
      ]
     },
     "execution_count": 4,
     "metadata": {},
     "output_type": "execute_result"
    }
   ],
   "source": [
    "df.target.value_counts()"
   ]
  },
  {
   "cell_type": "code",
   "execution_count": 5,
   "metadata": {},
   "outputs": [
    {
     "name": "stderr",
     "output_type": "stream",
     "text": [
      "/Users/leportella/.virtualenvs/udacity/lib/python3.6/site-packages/ipykernel_launcher.py:3: SettingWithCopyWarning: \n",
      "A value is trying to be set on a copy of a slice from a DataFrame\n",
      "\n",
      "See the caveats in the documentation: http://pandas.pydata.org/pandas-docs/stable/indexing.html#indexing-view-versus-copy\n",
      "  This is separate from the ipykernel package so we can avoid doing imports until\n"
     ]
    }
   ],
   "source": [
    "dd = df[['dia_semana', 'br', 'km', 'regional', 'causa_acidente', \n",
    "        'fase_dia', 'condicao_metereologica', 'tipo_pista', 'tracado_via', 'target']]\n",
    "dd.dropna(inplace=True)"
   ]
  },
  {
   "cell_type": "code",
   "execution_count": 6,
   "metadata": {},
   "outputs": [],
   "source": [
    "X = pd.get_dummies(dd.drop(['target'], axis=1))\n",
    "y = dd['target']"
   ]
  },
  {
   "cell_type": "code",
   "execution_count": 7,
   "metadata": {},
   "outputs": [],
   "source": [
    "from sklearn.decomposition import PCA\n",
    "\n",
    "pca = PCA(n_components=200)\n",
    "X_PCA = pca.fit_transform(X)"
   ]
  },
  {
   "cell_type": "code",
   "execution_count": 8,
   "metadata": {},
   "outputs": [],
   "source": [
    "X_train, X_test, y_train, y_test = train_test_split(X_PCA, y, test_size=0.2, random_state=42)"
   ]
  },
  {
   "cell_type": "code",
   "execution_count": 9,
   "metadata": {},
   "outputs": [],
   "source": [
    "model_class0 = joblib.load('../model/model_v10-no-victms.pkl')\n",
    "model_class1 = joblib.load('../model/model_v10-injuried-victims.pkl')\n",
    "model_class2 = joblib.load('../model/model_v10-dead-victims.pkl')"
   ]
  },
  {
   "cell_type": "code",
   "execution_count": 15,
   "metadata": {},
   "outputs": [],
   "source": [
    "y_predict_class0 = model_class0.predict_proba(X_test)\n",
    "y_predict_class1 = model_class1.predict_proba(X_test)\n",
    "y_predict_class2 = model_class2.predict_proba(X_test)"
   ]
  },
  {
   "cell_type": "code",
   "execution_count": 126,
   "metadata": {},
   "outputs": [],
   "source": [
    "df_predict = pd.DataFrame({\n",
    "    'y_test': y_test, \n",
    "    'y_class0': y_predict_class0[:,1],\n",
    "    'y_class1': y_predict_class1[:,1],\n",
    "    'y_class2': y_predict_class2[:,1],\n",
    "})"
   ]
  },
  {
   "cell_type": "code",
   "execution_count": 134,
   "metadata": {},
   "outputs": [],
   "source": [
    "def find_max_class(line):\n",
    "    results = [line['y_class0'], line['y_class1'], line['y_class2']]\n",
    "    if line['y_class2'] >= 0.75:\n",
    "        return 2\n",
    "    if line['y_class0'] >= 0.6:\n",
    "        return 0\n",
    "    return 1"
   ]
  },
  {
   "cell_type": "code",
   "execution_count": 135,
   "metadata": {},
   "outputs": [],
   "source": [
    "y_pred = df_predict.apply(find_max_class, axis=1)"
   ]
  },
  {
   "cell_type": "code",
   "execution_count": 136,
   "metadata": {},
   "outputs": [],
   "source": [
    "df_predict['y_pred_final'] = y_pred\n"
   ]
  },
  {
   "cell_type": "code",
   "execution_count": 137,
   "metadata": {},
   "outputs": [
    {
     "data": {
      "text/html": [
       "<div>\n",
       "<table border=\"1\" class=\"dataframe\">\n",
       "  <thead>\n",
       "    <tr style=\"text-align: right;\">\n",
       "      <th></th>\n",
       "      <th>y_class0</th>\n",
       "      <th>y_class1</th>\n",
       "      <th>y_class2</th>\n",
       "      <th>y_test</th>\n",
       "      <th>y_pred_final</th>\n",
       "    </tr>\n",
       "  </thead>\n",
       "  <tbody>\n",
       "    <tr>\n",
       "      <th>39513</th>\n",
       "      <td>0.280647</td>\n",
       "      <td>0.781428</td>\n",
       "      <td>0.828849</td>\n",
       "      <td>1</td>\n",
       "      <td>2</td>\n",
       "    </tr>\n",
       "    <tr>\n",
       "      <th>54561</th>\n",
       "      <td>0.428519</td>\n",
       "      <td>0.636261</td>\n",
       "      <td>0.372469</td>\n",
       "      <td>1</td>\n",
       "      <td>1</td>\n",
       "    </tr>\n",
       "    <tr>\n",
       "      <th>83666</th>\n",
       "      <td>0.443462</td>\n",
       "      <td>0.452040</td>\n",
       "      <td>0.553477</td>\n",
       "      <td>1</td>\n",
       "      <td>1</td>\n",
       "    </tr>\n",
       "    <tr>\n",
       "      <th>36560</th>\n",
       "      <td>0.624398</td>\n",
       "      <td>0.446587</td>\n",
       "      <td>0.338033</td>\n",
       "      <td>0</td>\n",
       "      <td>0</td>\n",
       "    </tr>\n",
       "    <tr>\n",
       "      <th>23084</th>\n",
       "      <td>0.254053</td>\n",
       "      <td>0.512768</td>\n",
       "      <td>0.664246</td>\n",
       "      <td>0</td>\n",
       "      <td>1</td>\n",
       "    </tr>\n",
       "    <tr>\n",
       "      <th>81657</th>\n",
       "      <td>0.250381</td>\n",
       "      <td>0.589873</td>\n",
       "      <td>0.713928</td>\n",
       "      <td>1</td>\n",
       "      <td>1</td>\n",
       "    </tr>\n",
       "    <tr>\n",
       "      <th>15397</th>\n",
       "      <td>0.477641</td>\n",
       "      <td>0.599624</td>\n",
       "      <td>0.251199</td>\n",
       "      <td>1</td>\n",
       "      <td>1</td>\n",
       "    </tr>\n",
       "    <tr>\n",
       "      <th>84512</th>\n",
       "      <td>0.414522</td>\n",
       "      <td>0.595664</td>\n",
       "      <td>0.493941</td>\n",
       "      <td>0</td>\n",
       "      <td>1</td>\n",
       "    </tr>\n",
       "    <tr>\n",
       "      <th>23851</th>\n",
       "      <td>0.340768</td>\n",
       "      <td>0.641337</td>\n",
       "      <td>0.600755</td>\n",
       "      <td>0</td>\n",
       "      <td>1</td>\n",
       "    </tr>\n",
       "    <tr>\n",
       "      <th>48987</th>\n",
       "      <td>0.822982</td>\n",
       "      <td>0.215345</td>\n",
       "      <td>0.870086</td>\n",
       "      <td>1</td>\n",
       "      <td>2</td>\n",
       "    </tr>\n",
       "    <tr>\n",
       "      <th>40403</th>\n",
       "      <td>0.561261</td>\n",
       "      <td>0.477517</td>\n",
       "      <td>0.725436</td>\n",
       "      <td>2</td>\n",
       "      <td>1</td>\n",
       "    </tr>\n",
       "    <tr>\n",
       "      <th>89491</th>\n",
       "      <td>0.564880</td>\n",
       "      <td>0.454579</td>\n",
       "      <td>0.674453</td>\n",
       "      <td>1</td>\n",
       "      <td>1</td>\n",
       "    </tr>\n",
       "    <tr>\n",
       "      <th>40908</th>\n",
       "      <td>0.427904</td>\n",
       "      <td>0.505147</td>\n",
       "      <td>0.583979</td>\n",
       "      <td>1</td>\n",
       "      <td>1</td>\n",
       "    </tr>\n",
       "    <tr>\n",
       "      <th>74646</th>\n",
       "      <td>0.362736</td>\n",
       "      <td>0.795901</td>\n",
       "      <td>0.887905</td>\n",
       "      <td>1</td>\n",
       "      <td>2</td>\n",
       "    </tr>\n",
       "    <tr>\n",
       "      <th>51612</th>\n",
       "      <td>0.438974</td>\n",
       "      <td>0.508335</td>\n",
       "      <td>0.574940</td>\n",
       "      <td>1</td>\n",
       "      <td>1</td>\n",
       "    </tr>\n",
       "    <tr>\n",
       "      <th>9440</th>\n",
       "      <td>0.461259</td>\n",
       "      <td>0.651440</td>\n",
       "      <td>0.754765</td>\n",
       "      <td>1</td>\n",
       "      <td>2</td>\n",
       "    </tr>\n",
       "    <tr>\n",
       "      <th>37029</th>\n",
       "      <td>0.550423</td>\n",
       "      <td>0.611802</td>\n",
       "      <td>0.469185</td>\n",
       "      <td>1</td>\n",
       "      <td>1</td>\n",
       "    </tr>\n",
       "    <tr>\n",
       "      <th>33661</th>\n",
       "      <td>0.419038</td>\n",
       "      <td>0.548270</td>\n",
       "      <td>0.455121</td>\n",
       "      <td>1</td>\n",
       "      <td>1</td>\n",
       "    </tr>\n",
       "    <tr>\n",
       "      <th>70830</th>\n",
       "      <td>0.368595</td>\n",
       "      <td>0.441258</td>\n",
       "      <td>0.574024</td>\n",
       "      <td>1</td>\n",
       "      <td>1</td>\n",
       "    </tr>\n",
       "    <tr>\n",
       "      <th>81613</th>\n",
       "      <td>0.457085</td>\n",
       "      <td>0.490908</td>\n",
       "      <td>0.232718</td>\n",
       "      <td>1</td>\n",
       "      <td>1</td>\n",
       "    </tr>\n",
       "  </tbody>\n",
       "</table>\n",
       "</div>"
      ],
      "text/plain": [
       "       y_class0  y_class1  y_class2  y_test  y_pred_final\n",
       "39513  0.280647  0.781428  0.828849       1             2\n",
       "54561  0.428519  0.636261  0.372469       1             1\n",
       "83666  0.443462  0.452040  0.553477       1             1\n",
       "36560  0.624398  0.446587  0.338033       0             0\n",
       "23084  0.254053  0.512768  0.664246       0             1\n",
       "81657  0.250381  0.589873  0.713928       1             1\n",
       "15397  0.477641  0.599624  0.251199       1             1\n",
       "84512  0.414522  0.595664  0.493941       0             1\n",
       "23851  0.340768  0.641337  0.600755       0             1\n",
       "48987  0.822982  0.215345  0.870086       1             2\n",
       "40403  0.561261  0.477517  0.725436       2             1\n",
       "89491  0.564880  0.454579  0.674453       1             1\n",
       "40908  0.427904  0.505147  0.583979       1             1\n",
       "74646  0.362736  0.795901  0.887905       1             2\n",
       "51612  0.438974  0.508335  0.574940       1             1\n",
       "9440   0.461259  0.651440  0.754765       1             2\n",
       "37029  0.550423  0.611802  0.469185       1             1\n",
       "33661  0.419038  0.548270  0.455121       1             1\n",
       "70830  0.368595  0.441258  0.574024       1             1\n",
       "81613  0.457085  0.490908  0.232718       1             1"
      ]
     },
     "execution_count": 137,
     "metadata": {},
     "output_type": "execute_result"
    }
   ],
   "source": [
    "df_predict.head(20)"
   ]
  },
  {
   "cell_type": "code",
   "execution_count": 139,
   "metadata": {},
   "outputs": [
    {
     "data": {
      "text/plain": [
       "0.4942657342657343"
      ]
     },
     "execution_count": 139,
     "metadata": {},
     "output_type": "execute_result"
    }
   ],
   "source": [
    "accuracy_score(y_test, y_pred)"
   ]
  },
  {
   "cell_type": "code",
   "execution_count": 138,
   "metadata": {},
   "outputs": [
    {
     "name": "stdout",
     "output_type": "stream",
     "text": [
      "Confusion matrix, without normalization\n",
      "[[1409 3598 1217]\n",
      " [1468 7228 1918]\n",
      " [ 126  713  198]]\n"
     ]
    },
    {
     "data": {
      "image/png": "[encoded data removed]",
      "text/plain": [
       "<matplotlib.figure.Figure at 0x10bb9a358>"
      ]
     },
     "metadata": {},
     "output_type": "display_data"
    }
   ],
   "source": [
    "cnf_matrix = confusion_matrix(y_test, y_pred)\n",
    "plot_confusion_matrix(cnf_matrix, classes=['Sem Feridos', 'Feridos', 'Mortos'],\n",
    "                      title='Confusion matrix, without normalization')"
   ]
  },
  {
   "cell_type": "code",
   "execution_count": 140,
   "metadata": {},
   "outputs": [
    {
     "name": "stdout",
     "output_type": "stream",
     "text": [
      "Precision classe de sem vítimas:  0.29384775808133473\n",
      "Recall classe de sem vítimas:  0.22638174807197944\n",
      "F1 classe de sem vítimas:  0.12787004265359833\n",
      "----\n",
      "Precision classe de feridos:  0.6263974347863767\n",
      "Recall classe de feridos:  0.6809873751648766\n",
      "F1 classe de feridos:  0.3262763508328443\n",
      "----\n",
      "Precision classe de mortos:  0.0594059405940594\n",
      "Recall classe de mortos:  0.1909353905496625\n",
      "F1 classe de mortos:  0.04530892448512585\n"
     ]
    }
   ],
   "source": [
    "precision0 = cnf_matrix[0,0] / (cnf_matrix[0,0] + cnf_matrix[1,0] + cnf_matrix[1,2])\n",
    "recall0 = cnf_matrix[0,0] / (cnf_matrix[0,0] + cnf_matrix[0,1] + cnf_matrix[0,2])\n",
    "\n",
    "print('Precision classe de sem vítimas: ', precision0)\n",
    "print('Recall classe de sem vítimas: ', recall0)\n",
    "print('F1 classe de sem vítimas: ', 1 * ((precision0 * recall0) / (precision0 + recall0)))\n",
    "print('----')\n",
    "\n",
    "precision1 = cnf_matrix[1,1] / (cnf_matrix[1,1] + cnf_matrix[0,1] + cnf_matrix[2,1])\n",
    "recall1 = cnf_matrix[1,1] / (cnf_matrix[1,1] + cnf_matrix[1,0] + cnf_matrix[1,2])\n",
    "\n",
    "print('Precision classe de feridos: ', precision1)\n",
    "print('Recall classe de feridos: ', recall1)\n",
    "print('F1 classe de feridos: ', 1 * ((precision1 * recall1) / (precision1 + recall1)))\n",
    "print('----')\n",
    "\n",
    "precision2 = cnf_matrix[2,2] / (cnf_matrix[2,2] + cnf_matrix[0,2] + cnf_matrix[1,2])\n",
    "recall2 = cnf_matrix[2,2] / (cnf_matrix[2,2] + cnf_matrix[2,0] + cnf_matrix[2,1])\n",
    "\n",
    "print('Precision classe de mortos: ', precision2)\n",
    "print('Recall classe de mortos: ', recall2)\n",
    "print('F1 classe de mortos: ', 1 * ((precision2 * recall2) / (precision2 + recall2)))"
   ]
  }
 ],
 "metadata": {
  "kernelspec": {
   "display_name": "Python 3",
   "language": "python",
   "name": "python3"
  },
  "language_info": {
   "codemirror_mode": {
    "name": "ipython",
    "version": 3
   },
   "file_extension": ".py",
   "mimetype": "text/x-python",
   "name": "python",
   "nbconvert_exporter": "python",
   "pygments_lexer": "ipython3",
   "version": "3.6.1"
  }
 },
 "nbformat": 4,
 "nbformat_minor": 2
}
